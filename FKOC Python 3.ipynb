{
 "cells": [
  {
   "cell_type": "markdown",
   "metadata": {},
   "source": [
    "# <font size=\"15\"> Future Kids OC: Python 3 </font>\n",
    "## Table of Contents:  \n",
    "1. [Looping](#section6)    \n",
    "    1.1 [Conditionals](#section1.1)  \n",
    "    1.2 [If/Else Statements](#section1.2)   \n",
    "    1.3 [While Loops](#section1.3)    \n",
    "\n",
    " \n",
    "## Contact:\n",
    "Email: [Future Kids OC](mailto:hello@futurekidsoc.com) \n",
    "  Website: [Future Kids OC](https://www.futurekidsoc.com/)\n",
    "\n",
    "\n",
    "After today you will know how to:\n",
    "1. Write and comprehend Python booleans\n",
    "2. Create and run complex code using loops\n",
    "\n"
   ]
  },
  {
   "cell_type": "markdown",
   "metadata": {},
   "source": [
    "<a id='section1'></a>\n",
    "# Part 1: Looping"
   ]
  },
  {
   "cell_type": "markdown",
   "metadata": {},
   "source": [
    "<a id='section1.1'></a>\n",
    "### 1.1 Conditionals (Booleans)\n",
    "Conditionals are used to run certain pieces of code if that conditional is true. For example, if it is sunny, I will go to the beach!\n",
    "\n",
    "We use comparators to determine whether an expression is true or false. The true or false value is called a boolean. Here are some comparators:\n",
    "\n",
    "\n",
    "|Name|Code|\n",
    "|-|-|\n",
    "|Equal to|`==`|\n",
    "|Not equal to|`!=`|\n",
    "|Greater than|`>`|\n",
    "|Greater than or equal to|`>=`|\n",
    "|Less than|`<`|\n",
    "|Less than or equal to|`<=`|\n",
    "\n",
    "Lets try some examples!"
   ]
  },
  {
   "cell_type": "markdown",
   "metadata": {},
   "source": [
    "**Exercise 1.1.1** Determine whether the following will print out true or false. Run the code afterward to check your answers!"
   ]
  },
  {
   "cell_type": "markdown",
   "metadata": {},
   "source": [
    "Double click on this cell and write your answer here: "
   ]
  },
  {
   "cell_type": "code",
   "execution_count": null,
   "metadata": {},
   "outputs": [],
   "source": [
    "print(2020 > 2021)"
   ]
  },
  {
   "cell_type": "markdown",
   "metadata": {},
   "source": [
    "Double click on this cell and write your answer here: "
   ]
  },
  {
   "cell_type": "code",
   "execution_count": null,
   "metadata": {},
   "outputs": [],
   "source": [
    "print(\"foo\" != \"bar\")"
   ]
  },
  {
   "cell_type": "markdown",
   "metadata": {},
   "source": [
    "Double click on this cell and write your answer here: "
   ]
  },
  {
   "cell_type": "code",
   "execution_count": null,
   "metadata": {},
   "outputs": [],
   "source": [
    "print(76 == 76)"
   ]
  },
  {
   "cell_type": "markdown",
   "metadata": {},
   "source": [
    "Double click on this cell and write your answer here: "
   ]
  },
  {
   "cell_type": "code",
   "execution_count": null,
   "metadata": {},
   "outputs": [],
   "source": [
    "print((1*2*3*4) >=  (2+4+6+8))"
   ]
  },
  {
   "cell_type": "markdown",
   "metadata": {},
   "source": [
    "**Exercise 1.1.2** Replace the `...` below with an expression that evaluates to True. "
   ]
  },
  {
   "cell_type": "code",
   "execution_count": null,
   "metadata": {},
   "outputs": [],
   "source": [
    "#Run this cell afterward to check your answer \n",
    "true_expression = ...\n",
    "print(true_expression)"
   ]
  },
  {
   "cell_type": "markdown",
   "metadata": {},
   "source": [
    "**Exercise 1.1.3** Replace the `...` below with an expression that evaluates to False. "
   ]
  },
  {
   "cell_type": "code",
   "execution_count": null,
   "metadata": {},
   "outputs": [],
   "source": [
    "#Run this cell afterward to check your answer \n",
    "false_expression = ...\n",
    "print(false_expression)"
   ]
  },
  {
   "cell_type": "markdown",
   "metadata": {},
   "source": [
    "<a id='section1.2'></a>\n",
    "### 1.2 If/Else Statements\n",
    "- An `If` statement consists of a boolean conditional followed by an expression. If the boolean value evaluates to `True` then the expression is executed. \n",
    "- `Else` statements come after the `if` statement and get executed only if the first boolean evaluates to false. \n",
    "- There are also `elif` statements which are used when there are more than two cases. These statements appear in between the `if` and `else` statements. "
   ]
  },
  {
   "cell_type": "markdown",
   "metadata": {},
   "source": [
    "Below is what the form of an **if/else statement** should look like:"
   ]
  },
  {
   "cell_type": "code",
   "execution_count": null,
   "metadata": {},
   "outputs": [],
   "source": [
    "# This code is only a skeleton. It will error if ran.\n",
    "\n",
    "if (condition1):\n",
    "    #code to be executed if condition1 is true\n",
    "elif (condition2):\n",
    "    #code to be executed if condition2 is true\n",
    "else:\n",
    "    #code to be executed if condition1 or condition2 are not true "
   ]
  },
  {
   "cell_type": "markdown",
   "metadata": {},
   "source": [
    "Here is an example below:"
   ]
  },
  {
   "cell_type": "code",
   "execution_count": null,
   "metadata": {},
   "outputs": [],
   "source": [
    "#Run the cell\n",
    "weather = \"storm\"\n",
    "\n",
    "if (weather == \"raining\"):\n",
    "    print(\"I need to bring an umbrella.\")\n",
    "elif (weather == \"sunny\"):\n",
    "    print(\"I need to put on sunscreen.\")\n",
    "elif (weather == \"windy\"):\n",
    "    print(\"I need to wear a jacket.\")\n",
    "else:\n",
    "    print(\"I need to check the weather.\")"
   ]
  },
  {
   "cell_type": "markdown",
   "metadata": {},
   "source": [
    "`If/else statements` let us decide what code gets executed. \n",
    "The body (code to be executed) of the if statement is indicated by the indentation. \n",
    "\n",
    "\n",
    "\n",
    "**Exercise 1.2.1** Lets do a fun activity below using if, elif and else statements!"
   ]
  },
  {
   "cell_type": "code",
   "execution_count": null,
   "metadata": {},
   "outputs": [],
   "source": [
    "# We want to bake some chocolate chip cookies, but need to go to the grocery store first for ingredients!\n",
    "\n",
    "# Change the variables below so that your trip to the grocery store is sucessful.\n",
    " \n",
    "# Run the code when you're done.\n",
    "\n",
    "print(\"Let's bake some chocolate chip cookies!\")\n",
    "chocolate_chips = 10\n",
    "gas = 60\n",
    "face_mask = False\n",
    "\n",
    "if (chocolate_chips < 30):\n",
    "    print(\" Yikes! We need more chocolate chips. Time to go grocery shopping...\")\n",
    "    if (face_mask == False):\n",
    "        print(\"Oops! We need to go back home and get my face mask first so I don't get sick\")\n",
    "    elif (gas < 60):\n",
    "        print(\"Nooo! My car has no more gas in it\")\n",
    "    else:\n",
    "        print(\"We made it to the grocery store and got the chocolate chips!\")\n",
    "        chocolate_chips = # reset the value of chocolate_chips so it is full again\n",
    "else:\n",
    "    print(\"We have all the ingredients we need! Time to get baking!\")"
   ]
  },
  {
   "cell_type": "markdown",
   "metadata": {},
   "source": [
    "Here is another example!"
   ]
  },
  {
   "cell_type": "code",
   "execution_count": null,
   "metadata": {},
   "outputs": [],
   "source": [
    "letter = \"a\"\n",
    "word = \"supercalifragilisticexpialidocious\"\n",
    "\n",
    "if letter not in word:\n",
    "    print(\"no a\")\n",
    "else:\n",
    "    print(\"yes a\")"
   ]
  },
  {
   "cell_type": "markdown",
   "metadata": {},
   "source": [
    "**Exercise 1.2.2** Write code below to check if x if smaller than y. If it is, print 'x is smaller than y'. If x and y are equal to each other, print ' x and y are the same.' If x is bigger than y, print 'x is bigger than y.' Don't forget to use your comparators. \n"
   ]
  },
  {
   "cell_type": "code",
   "execution_count": null,
   "metadata": {},
   "outputs": [],
   "source": [
    "x = 10\n",
    "y = 10\n",
    "..."
   ]
  },
  {
   "cell_type": "markdown",
   "metadata": {},
   "source": [
    "<a id='section1.3'></a>\n",
    "### 1.3 While Loops\n",
    "`While` loops will repeatedly execute code while the given conditional is true. \n",
    "\n",
    "Below is what the form of a **while loop** should look like:"
   ]
  },
  {
   "cell_type": "code",
   "execution_count": null,
   "metadata": {},
   "outputs": [],
   "source": [
    "# This code is only a skeleton. It will error if ran.\n",
    "while(conditional):\n",
    "    #code to be executed as long as conditional is true"
   ]
  },
  {
   "cell_type": "markdown",
   "metadata": {},
   "source": [
    "The body(code to be executed) of the while loop is indicated by an indentation in the code.\n",
    "Below is an example of a while loop:"
   ]
  },
  {
   "cell_type": "code",
   "execution_count": null,
   "metadata": {},
   "outputs": [],
   "source": [
    "#Run this cell\n",
    "count = 0\n",
    "while (count < 5):\n",
    "    print(count)\n",
    "    count = count + 1"
   ]
  },
  {
   "cell_type": "markdown",
   "metadata": {},
   "source": [
    "**Exercise 1.3.1** Replace the `...`s below so that each count is printed unless it gets below or is equal to 7. Print \"all is done\" when the while loop is finished. "
   ]
  },
  {
   "cell_type": "code",
   "execution_count": null,
   "metadata": {},
   "outputs": [],
   "source": [
    "count = 13\n",
    "while (...):\n",
    "    print(...)\n",
    "    count = ....\n",
    "\n",
    "print(...)"
   ]
  }
 ],
 "metadata": {
  "kernelspec": {
   "display_name": "Python 3",
   "language": "python",
   "name": "python3"
  },
  "language_info": {
   "codemirror_mode": {
    "name": "ipython",
    "version": 3
   },
   "file_extension": ".py",
   "mimetype": "text/x-python",
   "name": "python",
   "nbconvert_exporter": "python",
   "pygments_lexer": "ipython3",
   "version": "3.6.9"
  }
 },
 "nbformat": 4,
 "nbformat_minor": 4
}
